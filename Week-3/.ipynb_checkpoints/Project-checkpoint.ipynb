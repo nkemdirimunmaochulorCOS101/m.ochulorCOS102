{
 "cells": [
  {
   "cell_type": "code",
   "execution_count": 1,
   "id": "88ba3915-3d46-4da6-9954-a2dad3053275",
   "metadata": {},
   "outputs": [
    {
     "ename": "NameError",
     "evalue": "name 'math' is not defined",
     "output_type": "error",
     "traceback": [
      "\u001b[1;31m---------------------------------------------------------------------------\u001b[0m",
      "\u001b[1;31mNameError\u001b[0m                                 Traceback (most recent call last)",
      "Cell \u001b[1;32mIn[1], line 13\u001b[0m\n\u001b[0;32m     11\u001b[0m     \u001b[38;5;28mprint\u001b[39m (\u001b[38;5;124m\"\u001b[39m\u001b[38;5;124mThe second root = \u001b[39m\u001b[38;5;124m\"\u001b[39m, root2)\n\u001b[0;32m     12\u001b[0m \u001b[38;5;28;01melif\u001b[39;00m D \u001b[38;5;241m<\u001b[39m\u001b[38;5;241m=\u001b[39m \u001b[38;5;241m0\u001b[39m:\n\u001b[1;32m---> 13\u001b[0m     root1 \u001b[38;5;241m=\u001b[39m (\u001b[38;5;241m-\u001b[39mb \u001b[38;5;241m-\u001b[39m math\u001b[38;5;241m.\u001b[39msqrt(D)) \u001b[38;5;241m/\u001b[39m (\u001b[38;5;241m2.0\u001b[39m \u001b[38;5;241m*\u001b[39m a)\n\u001b[0;32m     14\u001b[0m     root2 \u001b[38;5;241m=\u001b[39m (\u001b[38;5;241m-\u001b[39mb \u001b[38;5;241m+\u001b[39m math\u001b[38;5;241m.\u001b[39msqrt(D)) \u001b[38;5;241m/\u001b[39m (\u001b[38;5;241m2.0\u001b[39m \u001b[38;5;241m*\u001b[39m a)\n\u001b[0;32m     15\u001b[0m     \u001b[38;5;28mprint\u001b[39m(\u001b[38;5;124m\"\u001b[39m\u001b[38;5;124mThe roots are complex\u001b[39m\u001b[38;5;124m\"\u001b[39m) \n",
      "\u001b[1;31mNameError\u001b[0m: name 'math' is not defined"
     ]
    }
   ],
   "source": [
    "# assigning functions to variables\n",
    "a = 8\n",
    "b = 9\n",
    "c = 6\n",
    "D = b**2 - (4 * a * c)\n",
    "if D >= 0:\n",
    "    root1 = (-b - math.sqrt(D)) / (2.0 * a)\n",
    "    root2 = (-b + math.sqrt(D)) / (2.0 * a)\n",
    "    print (\"The roots are real and distinct\")\n",
    "    print (\"The first root = \", root1)\n",
    "    print (\"The second root = \", root2)\n",
    "elif D <= 0:\n",
    "    root1 = (-b - math.sqrt(D)) / (2.0 * a)\n",
    "    root2 = (-b + math.sqrt(D)) / (2.0 * a)\n",
    "    print(\"The roots are complex\") \n",
    "    print (\"The first root = \", root1)\n",
    "    print (\"The second root = \", root2)\n",
    "elif D == 0:\n",
    "    root1 = (-b - math.sqrt(D)) / (2.0 * a)\n",
    "    root2 = (-b + math.sqrt(D)) / (2.0 * a)\n",
    "    print(\"The first root = \", root1)\n",
    "    print(\"The first root = \", root2)\n",
    "else:\n",
    "    print(\"There is not root\")"
   ]
  },
  {
   "cell_type": "code",
   "execution_count": null,
   "id": "8b5967f4-37f6-4299-afdd-9909980fabb8",
   "metadata": {},
   "outputs": [],
   "source": []
  }
 ],
 "metadata": {
  "kernelspec": {
   "display_name": "Python 3 (ipykernel)",
   "language": "python",
   "name": "python3"
  },
  "language_info": {
   "codemirror_mode": {
    "name": "ipython",
    "version": 3
   },
   "file_extension": ".py",
   "mimetype": "text/x-python",
   "name": "python",
   "nbconvert_exporter": "python",
   "pygments_lexer": "ipython3",
   "version": "3.11.7"
  }
 },
 "nbformat": 4,
 "nbformat_minor": 5
}
