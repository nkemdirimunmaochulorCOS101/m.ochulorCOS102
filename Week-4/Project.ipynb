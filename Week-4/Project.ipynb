{
 "cells": [
  {
   "cell_type": "code",
   "execution_count": 11,
   "id": "fbba0e3f-6f92-436b-adb1-59015d88b4b0",
   "metadata": {},
   "outputs": [
    {
     "name": "stdout",
     "output_type": "stream",
     "text": [
      "The names of the girls in the class and their respective information\n",
      "Evelyn  | 17  | 5.5  | 80\n",
      "Jessica  | 16  | 6.0  | 85\n",
      "Somto  | 17  | 5.4  | 70\n",
      "Edith  | 18  | 5.9  | 60\n",
      "Liza  | 16  | 5.6  | 76\n",
      "Madonna  | 18  | 5.5  | 66\n",
      "Waje  | 17  | 6.1  | 87\n",
      "Tola  | 20  | 6.0  | 95\n",
      "Aisha  | 19  | 5.7  | 50\n",
      "Latifa  | 17  | 5.5  | 49\n",
      "\n",
      "\n",
      "The name of the boys in the class and their respective information\n",
      "Chinedu  | 19  | 5.7  | 74\n",
      "Liam  | 16  | 5.9  | 87\n",
      "Wale  | 18  | 5.8  | 75\n",
      "Gbenga  | 17  | 6.1  | 68\n",
      "Abiola  | 20  | 5.9  | 66\n",
      "Kola  | 19  | 5.5  | 78\n",
      "Kunle  | 16  | 5.4  | 87\n",
      "George  | 18  | 5.8  | 98\n",
      "Thomas  | 17  | 5.7  | 54\n",
      "Weskey  | 19  | 6.1  | 60\n"
     ]
    }
   ],
   "source": [
    "print(\"The names of the girls in the class and their respective information\")\n",
    "names = [ \"Evelyn\", \"Jessica\", \"Somto\", \"Edith\", \"Liza\", \"Madonna\", \"Waje\", \"Tola\", \"Aisha\",\n",
    "         \"Latifa\"]\n",
    "Age = [\"17\", \"16\", \"17\", \"18\", \"16\", \"18\", \"17\", \"20\", \"19\", \"17\"]\n",
    "Height = [\"5.5\", \"6.0\", \"5.4\", \"5.9\", \"5.6\", \"5.5\", \"6.1\", \"6.0\", \"5.7\", \"5.5\"]\n",
    "Scores = [\"80\", \"85\", \"70\", \"60\", \"76\", \"66\", \"87\", \"95\", \"50\", \"49\"]\n",
    "for val in range(10):\n",
    "    print(names[val],' |',Age[val],' |', Height[val],' |', Scores[val])\n",
    "print(\"\\n\")\n",
    "print(\"The name of the boys in the class and their respective information\")\n",
    "names = [ \"Chinedu\", \"Liam\", \"Wale\", \"Gbenga\", \"Abiola\", \"Kola\", \"Kunle\", \"George\", \n",
    "         \"Thomas\", \"Weskey\"]\n",
    "Age = [\"19\", \"16\", \"18\", \"17\", \"20\", \"19\", \"16\", \"18\", \"17\", \"19\"]\n",
    "Height = [ \"5.7\", \"5.9\", \"5.8\", \"6.1\", \"5.9\", \"5.5\", \"5.4\", \"5.8\", \"5.7\", \"6.1\"]\n",
    "Scores = [\"74\", \"87\", \"75\", \"68\", \"66\", \"78\", \"87\", \"98\", \"54\", \"60\"]\n",
    "for no in range(10):\n",
    "    print(names[no], ' |',Age[no], ' |', Height[no], ' |', Scores[no])\n",
    "    "
   ]
  },
  {
   "cell_type": "code",
   "execution_count": 15,
   "id": "02a035cf-708f-46aa-a225-ce7154a8712b",
   "metadata": {},
   "outputs": [
    {
     "name": "stdin",
     "output_type": "stream",
     "text": [
      "Enter your years of experience 90\n",
      "Enter age 78\n"
     ]
    },
    {
     "name": "stdout",
     "output_type": "stream",
     "text": [
      "Your ATR is N4,480,000\n"
     ]
    }
   ],
   "source": [
    "years = float(input(\"Enter your years of experience\"))\n",
    "age = float(input(\"Enter age\"))\n",
    "if years == 25 and age >= 55:\n",
    "   print(\"Your Annual Tax Revenue(ATR) is N5,600,000\")\n",
    "elif years > 20 and age >= 45:\n",
    "   print(\"Your ATR is N4,480,000\")\n",
    "elif years > 10 and age >= 35:\n",
    "   print(\"Your ATR is N1,500,000\")\n",
    "else:\n",
    "   print(\"Your ATR is N550,000\")"
   ]
  }
 ],
 "metadata": {
  "kernelspec": {
   "display_name": "Python 3 (ipykernel)",
   "language": "python",
   "name": "python3"
  },
  "language_info": {
   "codemirror_mode": {
    "name": "ipython",
    "version": 3
   },
   "file_extension": ".py",
   "mimetype": "text/x-python",
   "name": "python",
   "nbconvert_exporter": "python",
   "pygments_lexer": "ipython3",
   "version": "3.11.7"
  }
 },
 "nbformat": 4,
 "nbformat_minor": 5
}
