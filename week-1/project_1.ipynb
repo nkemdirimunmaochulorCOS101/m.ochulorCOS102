{
 "cells": [
  {
   "cell_type": "code",
   "execution_count": 6,
   "id": "c8674803-fdfe-4093-a82b-e98299ee8e67",
   "metadata": {},
   "outputs": [
    {
     "name": "stdout",
     "output_type": "stream",
     "text": [
      "Simple interest is equal to (P(1 + ((R/100) * T))\n"
     ]
    }
   ],
   "source": [
    "print(\"Simple interest is equal to (P(1 + ((R/100) * T))\")                            "
   ]
  },
  {
   "cell_type": "code",
   "execution_count": 6,
   "id": "9ce564bd-43be-4e1a-97fe-9c0a8cc7ca83",
   "metadata": {},
   "outputs": [
    {
     "name": "stdout",
     "output_type": "stream",
     "text": [
      "PMT x [(1 + (R/n)^nt - 1)]/(R/n)\n"
     ]
    }
   ],
   "source": [
    "print(\"PMT x [(1 + (R/n)^nt - 1)]/(R/n)\")"
   ]
  },
  {
   "cell_type": "code",
   "execution_count": 7,
   "id": "59af6331-0cf0-4094-aa5e-40a8caa3b803",
   "metadata": {},
   "outputs": [
    {
     "name": "stdout",
     "output_type": "stream",
     "text": [
      "Compound interest(1 + (R/N)^nt)\n"
     ]
    }
   ],
   "source": [
    "print(\"Compound interest(1 + (R/N)^nt)\")"
   ]
  }
 ],
 "metadata": {
  "kernelspec": {
   "display_name": "Python 3 (ipykernel)",
   "language": "python",
   "name": "python3"
  },
  "language_info": {
   "codemirror_mode": {
    "name": "ipython",
    "version": 3
   },
   "file_extension": ".py",
   "mimetype": "text/x-python",
   "name": "python",
   "nbconvert_exporter": "python",
   "pygments_lexer": "ipython3",
   "version": "3.11.7"
  }
 },
 "nbformat": 4,
 "nbformat_minor": 5
}
