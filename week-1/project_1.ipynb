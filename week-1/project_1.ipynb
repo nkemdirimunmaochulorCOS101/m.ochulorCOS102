{
 "cells": [
  {
   "cell_type": "code",
   "execution_count": 22,
   "id": "c8674803-fdfe-4093-a82b-e98299ee8e67",
   "metadata": {},
   "outputs": [
    {
     "name": "stdin",
     "output_type": "stream",
     "text": [
      "Enter the value of the principal:  56\n",
      "Enter the value of the rate:  6\n",
      "Enter the value of the time:  8\n"
     ]
    },
    {
     "name": "stdout",
     "output_type": "stream",
     "text": [
      "Simple interest is equal to 474.88\n"
     ]
    }
   ],
   "source": [
    "P = int(input(\"Enter the value of the principal: \"))\n",
    "R = int(input(\"Enter the value of the rate: \"))\n",
    "T = int(input(\"Enter the value of the time: \"))\n",
    "#S is simple interest\n",
    "S = P * ((1 + (R / 100)) * T )\n",
    "print(\"Simple interest is equal to\", str(S))                           "
   ]
  },
  {
   "cell_type": "code",
   "execution_count": 27,
   "id": "ace2e40a-84b7-4318-9ae7-3621ba447c59",
   "metadata": {},
   "outputs": [
    {
     "name": "stdin",
     "output_type": "stream",
     "text": [
      "Enter the value of the principal:  90\n",
      "Enter the value of the rate:  98\n",
      "Enter the value of the time:  78\n",
      "Enter the value of n:  65\n"
     ]
    },
    {
     "name": "stdout",
     "output_type": "stream",
     "text": [
      "Compound interest is equal to 456120\n"
     ]
    }
   ],
   "source": [
    "P = int(input(\"Enter the value of the principal: \"))\n",
    "R = int(input(\"Enter the value of the rate: \"))\n",
    "t = int(input(\"Enter the value of the time: \"))\n",
    "n = int(input(\"Enter the value of n: \"))\n",
    "# C is compound interest\n",
    "C = P * ((1 + int(R / n)) ^ int(n * t) )\n",
    "print(\"Compound interest is equal to\", str(C))                           "
   ]
  },
  {
   "cell_type": "code",
   "execution_count": 34,
   "id": "7cf1136e-14ec-42c7-b7e7-1378bb17785b",
   "metadata": {},
   "outputs": [
    {
     "name": "stdin",
     "output_type": "stream",
     "text": [
      "Enter the value of the principal:  90\n",
      "Enter the value of the rate:  98\n",
      "Enter the value of the time:  78\n",
      "Enter the value of n:  78\n",
      "Enter the value of PMT:  6\n"
     ]
    },
    {
     "name": "stdout",
     "output_type": "stream",
     "text": [
      "Compound interest is equal to 456120\n"
     ]
    }
   ],
   "source": [
    "P = int(input(\"Enter the value of the principal: \"))\n",
    "R = int(input(\"Enter the value of the rate: \"))\n",
    "t = int(input(\"Enter the value of the time: \"))\n",
    "n = int(input(\"Enter the value of n: \"))\n",
    "# M is PMT\n",
    "M = int(input(\"Enter the value of PMT: \"))\n",
    "# A is annuity plan\n",
    "A = M * ((1 + int(R / n)) ^ int(n * t)) -1) / (R * n) \n",
    "print(\"Annuity Plan is equal to\", str(A))                           "
   ]
  }
 ],
 "metadata": {
  "kernelspec": {
   "display_name": "Python 3 (ipykernel)",
   "language": "python",
   "name": "python3"
  },
  "language_info": {
   "codemirror_mode": {
    "name": "ipython",
    "version": 3
   },
   "file_extension": ".py",
   "mimetype": "text/x-python",
   "name": "python",
   "nbconvert_exporter": "python",
   "pygments_lexer": "ipython3",
   "version": "3.11.7"
  }
 },
 "nbformat": 4,
 "nbformat_minor": 5
}
