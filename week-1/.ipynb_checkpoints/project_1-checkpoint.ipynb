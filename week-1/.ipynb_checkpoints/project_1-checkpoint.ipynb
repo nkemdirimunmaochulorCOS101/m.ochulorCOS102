{
 "cells": [
  {
   "cell_type": "code",
   "execution_count": 2,
   "id": "c8674803-fdfe-4093-a82b-e98299ee8e67",
   "metadata": {},
   "outputs": [
    {
     "name": "stdin",
     "output_type": "stream",
     "text": [
      "What's the principal 90\n",
      "What's the rate 89\n",
      "What's the time 78\n"
     ]
    },
    {
     "ename": "TypeError",
     "evalue": "'int' object is not callable",
     "output_type": "error",
     "traceback": [
      "\u001b[1;31m---------------------------------------------------------------------------\u001b[0m",
      "\u001b[1;31mTypeError\u001b[0m                                 Traceback (most recent call last)",
      "Cell \u001b[1;32mIn[2], line 4\u001b[0m\n\u001b[0;32m      2\u001b[0m R \u001b[38;5;241m=\u001b[39m \u001b[38;5;28minput\u001b[39m(\u001b[38;5;124m\"\u001b[39m\u001b[38;5;124mWhat\u001b[39m\u001b[38;5;124m'\u001b[39m\u001b[38;5;124ms the rate\u001b[39m\u001b[38;5;124m\"\u001b[39m)\n\u001b[0;32m      3\u001b[0m T \u001b[38;5;241m=\u001b[39m \u001b[38;5;28minput\u001b[39m(\u001b[38;5;124m\"\u001b[39m\u001b[38;5;124mWhat\u001b[39m\u001b[38;5;124m'\u001b[39m\u001b[38;5;124ms the time\u001b[39m\u001b[38;5;124m\"\u001b[39m)\n\u001b[1;32m----> 4\u001b[0m S \u001b[38;5;241m=\u001b[39m \u001b[38;5;28mint\u001b[39m(P)(\u001b[38;5;241m1\u001b[39m \u001b[38;5;241m+\u001b[39m ((\u001b[38;5;28mint\u001b[39m(R)\u001b[38;5;241m/\u001b[39m\u001b[38;5;241m100\u001b[39m) \u001b[38;5;241m*\u001b[39m \u001b[38;5;28mint\u001b[39m(T)))\n\u001b[0;32m      5\u001b[0m \u001b[38;5;28mprint\u001b[39m(\u001b[38;5;124m\"\u001b[39m\u001b[38;5;124mSimple interest is equal to (P(1 + ((R/100) * T))\u001b[39m\u001b[38;5;124m\"\u001b[39m)\n",
      "\u001b[1;31mTypeError\u001b[0m: 'int' object is not callable"
     ]
    }
   ],
   "source": [
    "P = int(input(\"What's the principal\"))\n",
    "R = int(input(\"What's the rate\"))\n",
    "T = int(input(\"What's the time\"))\n",
    "S = P(1 + ((R/100) * T))\n",
    "print(\"Simple interest is equal to (P(1 + ((R/100) * T))\")                            "
   ]
  },
  {
   "cell_type": "code",
   "execution_count": 6,
   "id": "9ce564bd-43be-4e1a-97fe-9c0a8cc7ca83",
   "metadata": {},
   "outputs": [
    {
     "name": "stdout",
     "output_type": "stream",
     "text": [
      "PMT x [(1 + (R/n)^nt - 1)]/(R/n)\n"
     ]
    }
   ],
   "source": [
    "print(\"PMT x [(1 + (R/n)^nt - 1)]/(R/n)\")"
   ]
  },
  {
   "cell_type": "code",
   "execution_count": null,
   "id": "59af6331-0cf0-4094-aa5e-40a8caa3b803",
   "metadata": {},
   "outputs": [],
   "source": [
    "print(\"Compound interest(1 + (R/N)^nt)\")"
   ]
  }
 ],
 "metadata": {
  "kernelspec": {
   "display_name": "Python 3 (ipykernel)",
   "language": "python",
   "name": "python3"
  },
  "language_info": {
   "codemirror_mode": {
    "name": "ipython",
    "version": 3
   },
   "file_extension": ".py",
   "mimetype": "text/x-python",
   "name": "python",
   "nbconvert_exporter": "python",
   "pygments_lexer": "ipython3",
   "version": "3.11.7"
  }
 },
 "nbformat": 4,
 "nbformat_minor": 5
}
