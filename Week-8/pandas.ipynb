{
 "cells": [
  {
   "cell_type": "markdown",
   "metadata": {},
   "source": [
    "# Python | Pandas DataFrame"
   ]
  },
  {
   "cell_type": "markdown",
   "metadata": {},
   "source": [
    "### What is Pandas?"
   ]
  },
  {
   "cell_type": "markdown",
   "metadata": {},
   "source": [
    "<b>pandas</b> is a software library written for the Python programming language for data manipulation and analysis. In particular, it offers data structures and operations for manipulating numerical tables and time series. "
   ]
  },
  {
   "cell_type": "markdown",
   "metadata": {},
   "source": [
    "### What is a Pandas DataFrame?"
   ]
  },
  {
   "cell_type": "markdown",
   "metadata": {},
   "source": [
    "<b>Pandas DataFrame</b> is two-dimensional size-mutable, potentially heterogeneous tabular data structure with labeled axes (rows and columns). \n",
    "\n",
    "A Data frame is a two-dimensional data structure, i.e., data is aligned in a tabular fashion in rows and columns. \n",
    "\n",
    "Pandas DataFrame consists of three principal components, the data, rows, and columns."
   ]
  },
  {
   "cell_type": "markdown",
   "metadata": {},
   "source": [
    "<img src=\"images/pandas.jpg\">"
   ]
  },
  {
   "cell_type": "markdown",
   "metadata": {},
   "source": [
    "A Pandas DataFrame will be created by loading the datasets from existing storage. Storage can be SQL Database, CSV file, and Excel file. \n",
    "Pandas DataFrame can be created from the lists, dictionary, and from a list of dictionary etc.\n",
    "\n",
    "Dataframe can be created in different ways here are some ways by which we create a dataframe:\n"
   ]
  },
  {
   "cell_type": "markdown",
   "metadata": {},
   "source": [
    "### Creating a dataframe using List:"
   ]
  },
  {
   "cell_type": "code",
   "execution_count": 3,
   "metadata": {},
   "outputs": [
    {
     "data": {
      "text/html": [
       "<div>\n",
       "<style scoped>\n",
       "    .dataframe tbody tr th:only-of-type {\n",
       "        vertical-align: middle;\n",
       "    }\n",
       "\n",
       "    .dataframe tbody tr th {\n",
       "        vertical-align: top;\n",
       "    }\n",
       "\n",
       "    .dataframe thead th {\n",
       "        text-align: right;\n",
       "    }\n",
       "</style>\n",
       "<table border=\"1\" class=\"dataframe\">\n",
       "  <thead>\n",
       "    <tr style=\"text-align: right;\">\n",
       "      <th></th>\n",
       "      <th>0</th>\n",
       "    </tr>\n",
       "  </thead>\n",
       "  <tbody>\n",
       "    <tr>\n",
       "      <th>0</th>\n",
       "      <td>CSC</td>\n",
       "    </tr>\n",
       "    <tr>\n",
       "      <th>1</th>\n",
       "      <td>102</td>\n",
       "    </tr>\n",
       "    <tr>\n",
       "      <th>2</th>\n",
       "      <td>is</td>\n",
       "    </tr>\n",
       "    <tr>\n",
       "      <th>3</th>\n",
       "      <td>the</td>\n",
       "    </tr>\n",
       "    <tr>\n",
       "      <th>4</th>\n",
       "      <td>best</td>\n",
       "    </tr>\n",
       "    <tr>\n",
       "      <th>5</th>\n",
       "      <td>course</td>\n",
       "    </tr>\n",
       "    <tr>\n",
       "      <th>6</th>\n",
       "      <td>ever</td>\n",
       "    </tr>\n",
       "  </tbody>\n",
       "</table>\n",
       "</div>"
      ],
      "text/plain": [
       "        0\n",
       "0     CSC\n",
       "1     102\n",
       "2      is\n",
       "3     the\n",
       "4    best\n",
       "5  course\n",
       "6    ever"
      ]
     },
     "execution_count": 3,
     "metadata": {},
     "output_type": "execute_result"
    }
   ],
   "source": [
    "# import pandas as pd\n",
    "import pandas as pd\n",
    " \n",
    "# list of strings\n",
    "lyst = ['CSC', '102', 'is', 'the', 'best', 'course', 'ever']\n",
    " \n",
    "# Calling DataFrame constructor on list\n",
    "df = pd.DataFrame(lyst)\n",
    "\n",
    "# Print the output.\n",
    "df"
   ]
  },
  {
   "cell_type": "markdown",
   "metadata": {},
   "source": [
    "### Creating a dataframe using dict of narray/lists:"
   ]
  },
  {
   "cell_type": "code",
   "execution_count": 6,
   "metadata": {},
   "outputs": [
    {
     "data": {
      "text/html": [
       "<div>\n",
       "<style scoped>\n",
       "    .dataframe tbody tr th:only-of-type {\n",
       "        vertical-align: middle;\n",
       "    }\n",
       "\n",
       "    .dataframe tbody tr th {\n",
       "        vertical-align: top;\n",
       "    }\n",
       "\n",
       "    .dataframe thead th {\n",
       "        text-align: right;\n",
       "    }\n",
       "</style>\n",
       "<table border=\"1\" class=\"dataframe\">\n",
       "  <thead>\n",
       "    <tr style=\"text-align: right;\">\n",
       "      <th></th>\n",
       "      <th>Name</th>\n",
       "      <th>Age</th>\n",
       "    </tr>\n",
       "  </thead>\n",
       "  <tbody>\n",
       "    <tr>\n",
       "      <th>0</th>\n",
       "      <td>Angela</td>\n",
       "      <td>20</td>\n",
       "    </tr>\n",
       "    <tr>\n",
       "      <th>1</th>\n",
       "      <td>Precious</td>\n",
       "      <td>21</td>\n",
       "    </tr>\n",
       "    <tr>\n",
       "      <th>2</th>\n",
       "      <td>Luis</td>\n",
       "      <td>19</td>\n",
       "    </tr>\n",
       "    <tr>\n",
       "      <th>3</th>\n",
       "      <td>Ade</td>\n",
       "      <td>18</td>\n",
       "    </tr>\n",
       "    <tr>\n",
       "      <th>4</th>\n",
       "      <td>Femi</td>\n",
       "      <td>20</td>\n",
       "    </tr>\n",
       "  </tbody>\n",
       "</table>\n",
       "</div>"
      ],
      "text/plain": [
       "       Name  Age\n",
       "0    Angela   20\n",
       "1  Precious   21\n",
       "2      Luis   19\n",
       "3       Ade   18\n",
       "4      Femi   20"
      ]
     },
     "execution_count": 6,
     "metadata": {},
     "output_type": "execute_result"
    }
   ],
   "source": [
    "import pandas as pd\n",
    " \n",
    "# intialise data of lists.\n",
    "data = {'Name':['Angela', 'Precious', 'Luis', 'Ade', 'Femi'],\n",
    "        'Age':[20, 21, 19, 18, 20]}\n",
    " \n",
    "# Create DataFrame\n",
    "df = pd.DataFrame(data)\n",
    " \n",
    "# Print the output.\n",
    "df"
   ]
  },
  {
   "cell_type": "markdown",
   "metadata": {},
   "source": [
    "### Column Selection:"
   ]
  },
  {
   "cell_type": "code",
   "execution_count": 9,
   "metadata": {},
   "outputs": [
    {
     "data": {
      "text/html": [
       "<div>\n",
       "<style scoped>\n",
       "    .dataframe tbody tr th:only-of-type {\n",
       "        vertical-align: middle;\n",
       "    }\n",
       "\n",
       "    .dataframe tbody tr th {\n",
       "        vertical-align: top;\n",
       "    }\n",
       "\n",
       "    .dataframe thead th {\n",
       "        text-align: right;\n",
       "    }\n",
       "</style>\n",
       "<table border=\"1\" class=\"dataframe\">\n",
       "  <thead>\n",
       "    <tr style=\"text-align: right;\">\n",
       "      <th></th>\n",
       "      <th>Name</th>\n",
       "      <th>Qualification</th>\n",
       "    </tr>\n",
       "  </thead>\n",
       "  <tbody>\n",
       "    <tr>\n",
       "      <th>0</th>\n",
       "      <td>Clem</td>\n",
       "      <td>Msc</td>\n",
       "    </tr>\n",
       "    <tr>\n",
       "      <th>1</th>\n",
       "      <td>Prince</td>\n",
       "      <td>MA</td>\n",
       "    </tr>\n",
       "    <tr>\n",
       "      <th>2</th>\n",
       "      <td>Edward</td>\n",
       "      <td>MCA</td>\n",
       "    </tr>\n",
       "    <tr>\n",
       "      <th>3</th>\n",
       "      <td>Adele</td>\n",
       "      <td>Phd</td>\n",
       "    </tr>\n",
       "  </tbody>\n",
       "</table>\n",
       "</div>"
      ],
      "text/plain": [
       "     Name Qualification\n",
       "0    Clem           Msc\n",
       "1  Prince            MA\n",
       "2  Edward           MCA\n",
       "3   Adele           Phd"
      ]
     },
     "execution_count": 9,
     "metadata": {},
     "output_type": "execute_result"
    }
   ],
   "source": [
    "# Import pandas package\n",
    "import pandas as pd\n",
    " \n",
    "# Define a dictionary containing employee data\n",
    "data = {'Name':['Clem', 'Prince', 'Edward', 'Adele'],\n",
    "        'Age':[27, 24, 22, 32],\n",
    "        'Address':['Abuja', 'Kano', 'Minna', 'Lagos'],\n",
    "        'Qualification':['Msc', 'MA', 'MCA', 'Phd']}\n",
    " \n",
    "# Convert the dictionary into DataFrame \n",
    "df = pd.DataFrame(data)\n",
    " \n",
    "# select two columns\n",
    "df[['Name', 'Qualification']]\n"
   ]
  },
  {
   "cell_type": "markdown",
   "metadata": {},
   "source": [
    "### Row Selection:\n",
    "Pandas provide a unique method to retrieve rows from a Data frame.<br>\n",
    "<i><font color=\"green\">DataFrame.iloc[]</font></i> method is used to retrieve rows from Pandas DataFrame.<br>"
   ]
  },
  {
   "cell_type": "code",
   "execution_count": 11,
   "metadata": {},
   "outputs": [
    {
     "data": {
      "text/plain": [
       "Name              Oyin\n",
       "Age                 27\n",
       "Address          Asaba\n",
       "Qualification      Msc\n",
       "Name: 0, dtype: object"
      ]
     },
     "execution_count": 11,
     "metadata": {},
     "output_type": "execute_result"
    }
   ],
   "source": [
    "import pandas as pd\n",
    " \n",
    "# Define a dictionary containing employee data\n",
    "data = {'Name':['Oyin', 'Mary', 'David', 'Bola'],\n",
    "        'Age':[27, 24, 22, 32],\n",
    "        'Address':['Asaba', 'Maiduguri', 'Onitsha', 'Kwara'],\n",
    "        'Qualification':['Msc', 'MA', 'MCA', 'Phd']}\n",
    " \n",
    "# Convert the dictionary into DataFrame \n",
    "df = pd.DataFrame(data)\n",
    " \n",
    "# select first row\n",
    "df.iloc[0]"
   ]
  },
  {
   "cell_type": "markdown",
   "metadata": {},
   "source": [
    "### Read from a file:"
   ]
  },
  {
   "cell_type": "code",
   "execution_count": 17,
   "metadata": {},
   "outputs": [
    {
     "data": {
      "text/html": [
       "<div>\n",
       "<style scoped>\n",
       "    .dataframe tbody tr th:only-of-type {\n",
       "        vertical-align: middle;\n",
       "    }\n",
       "\n",
       "    .dataframe tbody tr th {\n",
       "        vertical-align: top;\n",
       "    }\n",
       "\n",
       "    .dataframe thead th {\n",
       "        text-align: right;\n",
       "    }\n",
       "</style>\n",
       "<table border=\"1\" class=\"dataframe\">\n",
       "  <thead>\n",
       "    <tr style=\"text-align: right;\">\n",
       "      <th></th>\n",
       "      <th>Employee Names</th>\n",
       "      <th>Years</th>\n",
       "      <th>Assesment Records</th>\n",
       "      <th>Points</th>\n",
       "      <th>Reward</th>\n",
       "    </tr>\n",
       "  </thead>\n",
       "  <tbody>\n",
       "    <tr>\n",
       "      <th>0</th>\n",
       "      <td>Matthew Ade</td>\n",
       "      <td>25</td>\n",
       "      <td>125.3</td>\n",
       "      <td>21</td>\n",
       "      <td>438.55</td>\n",
       "    </tr>\n",
       "    <tr>\n",
       "      <th>1</th>\n",
       "      <td>Angela Adebisi</td>\n",
       "      <td>15</td>\n",
       "      <td>77.9</td>\n",
       "      <td>14</td>\n",
       "      <td>181.77</td>\n",
       "    </tr>\n",
       "    <tr>\n",
       "      <th>2</th>\n",
       "      <td>Calistus Ndukwe</td>\n",
       "      <td>10</td>\n",
       "      <td>144.2</td>\n",
       "      <td>18</td>\n",
       "      <td>432.60</td>\n",
       "    </tr>\n",
       "    <tr>\n",
       "      <th>3</th>\n",
       "      <td>Martha Martins</td>\n",
       "      <td>9</td>\n",
       "      <td>81.5</td>\n",
       "      <td>25</td>\n",
       "      <td>339.58</td>\n",
       "    </tr>\n",
       "    <tr>\n",
       "      <th>4</th>\n",
       "      <td>Victor Sayola</td>\n",
       "      <td>18</td>\n",
       "      <td>77.8</td>\n",
       "      <td>33</td>\n",
       "      <td>427.90</td>\n",
       "    </tr>\n",
       "    <tr>\n",
       "      <th>5</th>\n",
       "      <td>Adamu Bello</td>\n",
       "      <td>23</td>\n",
       "      <td>99.5</td>\n",
       "      <td>24</td>\n",
       "      <td>398.00</td>\n",
       "    </tr>\n",
       "  </tbody>\n",
       "</table>\n",
       "</div>"
      ],
      "text/plain": [
       "    Employee Names  Years  Assesment Records  Points  Reward\n",
       "0      Matthew Ade     25              125.3      21  438.55\n",
       "1   Angela Adebisi     15               77.9      14  181.77\n",
       "2  Calistus Ndukwe     10              144.2      18  432.60\n",
       "3   Martha Martins      9               81.5      25  339.58\n",
       "4    Victor Sayola     18               77.8      33  427.90\n",
       "5      Adamu Bello     23               99.5      24  398.00"
      ]
     },
     "execution_count": 17,
     "metadata": {},
     "output_type": "execute_result"
    }
   ],
   "source": [
    "# importing pandas package\n",
    "import pandas as pd\n",
    " \n",
    "# making data frame from csv file\n",
    "data = pd.read_csv(\"employee_records.csv\")\n",
    "\n",
    "# print excel\n",
    "data"
   ]
  },
  {
   "cell_type": "markdown",
   "metadata": {},
   "source": [
    "### Select first row from file"
   ]
  },
  {
   "cell_type": "code",
   "execution_count": 19,
   "metadata": {},
   "outputs": [
    {
     "data": {
      "text/plain": [
       "Employee Names       Matthew Ade\n",
       "Years                         25\n",
       "Assesment Records          125.3\n",
       "Points                        21\n",
       "Reward                    438.55\n",
       "Name: 0, dtype: object"
      ]
     },
     "execution_count": 19,
     "metadata": {},
     "output_type": "execute_result"
    }
   ],
   "source": [
    "# importing pandas package\n",
    "import pandas as pd\n",
    " \n",
    "# making data frame from csv file\n",
    "data = pd.read_csv(\"employee_records.csv\")\n",
    "\n",
    "df=data.iloc[0]\n",
    "\n",
    "# print excel\n",
    "df"
   ]
  },
  {
   "cell_type": "markdown",
   "metadata": {},
   "source": [
    "### Selecting Row with Title Header"
   ]
  },
  {
   "cell_type": "code",
   "execution_count": 21,
   "metadata": {},
   "outputs": [
    {
     "data": {
      "text/html": [
       "<div>\n",
       "<style scoped>\n",
       "    .dataframe tbody tr th:only-of-type {\n",
       "        vertical-align: middle;\n",
       "    }\n",
       "\n",
       "    .dataframe tbody tr th {\n",
       "        vertical-align: top;\n",
       "    }\n",
       "\n",
       "    .dataframe thead th {\n",
       "        text-align: right;\n",
       "    }\n",
       "</style>\n",
       "<table border=\"1\" class=\"dataframe\">\n",
       "  <thead>\n",
       "    <tr style=\"text-align: right;\">\n",
       "      <th></th>\n",
       "      <th>Employee Names</th>\n",
       "      <th>Years</th>\n",
       "      <th>Assesment Records</th>\n",
       "      <th>Points</th>\n",
       "      <th>Reward</th>\n",
       "    </tr>\n",
       "  </thead>\n",
       "  <tbody>\n",
       "    <tr>\n",
       "      <th>0</th>\n",
       "      <td>Matthew Ade</td>\n",
       "      <td>25</td>\n",
       "      <td>125.3</td>\n",
       "      <td>21</td>\n",
       "      <td>438.55</td>\n",
       "    </tr>\n",
       "  </tbody>\n",
       "</table>\n",
       "</div>"
      ],
      "text/plain": [
       "  Employee Names  Years  Assesment Records  Points  Reward\n",
       "0    Matthew Ade     25              125.3      21  438.55"
      ]
     },
     "execution_count": 21,
     "metadata": {},
     "output_type": "execute_result"
    }
   ],
   "source": [
    "# importing pandas package\n",
    "import pandas as pd\n",
    " \n",
    "# making data frame from csv file\n",
    "data = pd.read_csv(\"employee_records.csv\")\n",
    "\n",
    "df=data.head(1)\n",
    "\n",
    "# print excel\n",
    "df"
   ]
  },
  {
   "cell_type": "markdown",
   "metadata": {},
   "source": [
    "### Looping over rows and columns\n",
    "A loop is a general term for taking each item of something, one after another.<br> Pandas DataFrame consists of rows and columns so, in order to loop over dataframe, we have to iterate a dataframe like a dictionary.<br><br>\n",
    "In order to iterate over rows, we can use two functions <i><font color=\"green\">iteritems(), iterrows() </font></i>. These two functions will help in iteration over rows."
   ]
  },
  {
   "cell_type": "code",
   "execution_count": 85,
   "metadata": {},
   "outputs": [
    {
     "name": "stdout",
     "output_type": "stream",
     "text": [
      "0 name      Abdul\n",
      "degree      MBA\n",
      "score        90\n",
      "Name: 0, dtype: object\n",
      "\n",
      "1 name      Chukwuemeka\n",
      "degree            BCA\n",
      "score              40\n",
      "Name: 1, dtype: object\n",
      "\n",
      "2 name        Seyi\n",
      "degree    M.Tech\n",
      "score         80\n",
      "Name: 2, dtype: object\n",
      "\n",
      "3 name      Matt\n",
      "degree     MBA\n",
      "score       98\n",
      "Name: 3, dtype: object\n",
      "\n"
     ]
    }
   ],
   "source": [
    "# importing pandas as pd\n",
    "import pandas as pd\n",
    "  \n",
    "# dictionary of lists\n",
    "dict = {'name':[\"Abdul\", \"Chukwuemeka\", \"Seyi\", \"Matt\"],\n",
    "        'degree': [\"MBA\", \"BCA\", \"M.Tech\", \"MBA\"],\n",
    "        'score':[90, 40, 80, 98]}\n",
    " \n",
    "# creating a dataframe from a dictionary \n",
    "df = pd.DataFrame(dict)\n",
    "\n",
    "# iterating over rows using iterrows() function \n",
    "for i, j in df.iterrows():\n",
    "    print(i, j)\n",
    "    print()"
   ]
  },
  {
   "cell_type": "markdown",
   "metadata": {},
   "source": [
    "### Looping over Columns :\n",
    "In order to loop over columns, we need to create a list of dataframe columns and then iterating through that list to pull out the dataframe columns."
   ]
  },
  {
   "cell_type": "code",
   "execution_count": 73,
   "metadata": {},
   "outputs": [
    {
     "name": "stdout",
     "output_type": "stream",
     "text": [
      "Ugochi\n",
      "M.Tech\n",
      "80\n"
     ]
    }
   ],
   "source": [
    "# importing pandas as pd\n",
    "import pandas as pd\n",
    "   \n",
    "# dictionary of lists\n",
    "dict = {'name':[\"Bello\", \"Kamara\", \"Ugochi\", \"David\"],\n",
    "        'degree': [\"MBA\", \"BCA\", \"M.Tech\", \"MBA\"],\n",
    "        'score':[90, 40, 80, 98]}\n",
    "  \n",
    "# creating a dataframe from a dictionary \n",
    "df = pd.DataFrame(dict)\n",
    "\n",
    "# creating a list of dataframe columns\n",
    "columns = list(df)\n",
    " \n",
    "for i in columns:\n",
    "    # printing the third element of the column\n",
    "    print (df[i][2])\n",
    "    "
   ]
  },
  {
   "cell_type": "markdown",
   "metadata": {},
   "source": [
    "### Saving a DataFrame as CSV file"
   ]
  },
  {
   "cell_type": "code",
   "execution_count": 29,
   "metadata": {},
   "outputs": [],
   "source": [
    "# importing pandas as pd\n",
    "import pandas as pd\n",
    "   \n",
    "# dictionary of lists\n",
    "records = {'name':[\"Abel\", \"Kamsi\", \"Oyode\", \"Chinelo\"],\n",
    "        'degree': [\"MBA\", \"BCA\", \"M.Tech\", \"MBA\"],\n",
    "        'score':[90, 40, 80, 98]}\n",
    "  \n",
    "# creating a dataframe from a dictionary \n",
    "df = pd.DataFrame(records)\n",
    "\n",
    "# saving the dataframe\n",
    "df.to_csv('record.csv')"
   ]
  },
  {
   "cell_type": "markdown",
   "metadata": {},
   "source": [
    "## Class Project I\n"
   ]
  },
  {
   "cell_type": "markdown",
   "metadata": {},
   "source": [
    "####  Go to www.kaggle.com\n",
    "\n",
    "Kaggle allows users to find and publish data sets, explore and build models in a web-based data-science environment, work with other data scientists and machine learning engineers, and enter competitions to solve data science challenges.\n",
    "\n",
    "#### Download the following dataset:\n",
    "1. Top Apps in Google Play\n",
    "2. Cryptocurrency Predict Artificial Intelligence V3\n",
    "3. Programming Languages Trend Over Time\n",
    "\n",
    "#### Clue\n",
    "You can signin with either Google, facebook or Linkedin account\n",
    "\n",
    "#### Task\n",
    "Display the first 7 rows of each dataset<br>\n",
    "Select the first 3 colums of each dataset<br>\n",
    "Display only one row and header of each dataset\n"
   ]
  },
  {
   "cell_type": "code",
   "execution_count": 3,
   "metadata": {},
   "outputs": [
    {
     "data": {
      "text/html": [
       "<div>\n",
       "<style scoped>\n",
       "    .dataframe tbody tr th:only-of-type {\n",
       "        vertical-align: middle;\n",
       "    }\n",
       "\n",
       "    .dataframe tbody tr th {\n",
       "        vertical-align: top;\n",
       "    }\n",
       "\n",
       "    .dataframe thead th {\n",
       "        text-align: right;\n",
       "    }\n",
       "</style>\n",
       "<table border=\"1\" class=\"dataframe\">\n",
       "  <thead>\n",
       "    <tr style=\"text-align: right;\">\n",
       "      <th></th>\n",
       "      <th>No</th>\n",
       "      <th>App Name</th>\n",
       "      <th>App Id</th>\n",
       "      <th>Category</th>\n",
       "      <th>Developer Id</th>\n",
       "      <th>Developer Website</th>\n",
       "      <th>Developer Email</th>\n",
       "      <th>Content Rating</th>\n",
       "      <th>Ad Supported</th>\n",
       "      <th>In App Purchases</th>\n",
       "    </tr>\n",
       "  </thead>\n",
       "  <tbody>\n",
       "    <tr>\n",
       "      <th>0</th>\n",
       "      <td>1</td>\n",
       "      <td>Google Play services</td>\n",
       "      <td>com.google.android.gms</td>\n",
       "      <td>Tools</td>\n",
       "      <td>Google LLC</td>\n",
       "      <td>https://developers.google.com/android/google-p...</td>\n",
       "      <td>apps-help@google.com</td>\n",
       "      <td>Everyone</td>\n",
       "      <td>False</td>\n",
       "      <td>False</td>\n",
       "    </tr>\n",
       "  </tbody>\n",
       "</table>\n",
       "</div>"
      ],
      "text/plain": [
       "   No              App Name                  App Id Category Developer Id  \\\n",
       "0   1  Google Play services  com.google.android.gms    Tools   Google LLC   \n",
       "\n",
       "                                   Developer Website       Developer Email  \\\n",
       "0  https://developers.google.com/android/google-p...  apps-help@google.com   \n",
       "\n",
       "  Content Rating  Ad Supported  In App Purchases  \n",
       "0       Everyone         False             False  "
      ]
     },
     "execution_count": 3,
     "metadata": {},
     "output_type": "execute_result"
    }
   ],
   "source": [
    "# importing pandas package\n",
    "import pandas as pd\n",
    " \n",
    "# making data frame from csv file\n",
    "data = pd.read_csv(\"Google_Play.csv\")\n",
    "\n",
    "df=data.head(1)\n",
    "\n",
    "# print excel\n",
    "df\n"
   ]
  },
  {
   "cell_type": "code",
   "execution_count": 4,
   "metadata": {},
   "outputs": [
    {
     "name": "stdout",
     "output_type": "stream",
     "text": [
      "0 No                                                                   1\n",
      "App Name                                          Google Play services\n",
      "App Id                                          com.google.android.gms\n",
      "Category                                                         Tools\n",
      "Developer Id                                                Google LLC\n",
      "Developer Website    https://developers.google.com/android/google-p...\n",
      "Developer Email                                   apps-help@google.com\n",
      "Content Rating                                                Everyone\n",
      "Ad Supported                                                     False\n",
      "In App Purchases                                                 False\n",
      "Name: 0, dtype: object\n",
      "\n",
      "1 No                                                                   2\n",
      "App Name                                                       YouTube\n",
      "App Id                                      com.google.android.youtube\n",
      "Category                                       Video Players & Editors\n",
      "Developer Id                                                Google LLC\n",
      "Developer Website    https://support.google.com/youtube/topic/24225...\n",
      "Developer Email                           ytandroid-support@google.com\n",
      "Content Rating                                                    Teen\n",
      "Ad Supported                                                      True\n",
      "In App Purchases                                                 False\n",
      "Name: 1, dtype: object\n",
      "\n",
      "2 No                                                         3\n",
      "App Name                                              Google\n",
      "App Id               com.google.android.googlequicksearchbox\n",
      "Category                                               Tools\n",
      "Developer Id                                      Google LLC\n",
      "Developer Website       https://www.google.com/search/about/\n",
      "Developer Email                         apps-help@google.com\n",
      "Content Rating                                      Everyone\n",
      "Ad Supported                                            True\n",
      "In App Purchases                                       False\n",
      "Name: 2, dtype: object\n",
      "\n",
      "3 No                                                  4\n",
      "App Name             Google Maps - Navigate & Explore\n",
      "App Id                   com.google.android.apps.maps\n",
      "Category                               Travel & Local\n",
      "Developer Id                               Google LLC\n",
      "Developer Website       http://maps.google.com/about/\n",
      "Developer Email                  apps-help@google.com\n",
      "Content Rating                               Everyone\n",
      "Ad Supported                                     True\n",
      "In App Purchases                                False\n",
      "Name: 3, dtype: object\n",
      "\n",
      "4 No                                         5\n",
      "App Name               Google Text-to-Speech\n",
      "App Id                com.google.android.tts\n",
      "Category                               Tools\n",
      "Developer Id                      Google LLC\n",
      "Developer Website     http://www.google.com/\n",
      "Developer Email      tts-feedback@google.com\n",
      "Content Rating                      Everyone\n",
      "Ad Supported                           False\n",
      "In App Purchases                       False\n",
      "Name: 4, dtype: object\n",
      "\n",
      "5 No                                                      6\n",
      "App Name                     Google Chrome: Fast & Secure\n",
      "App Id                                 com.android.chrome\n",
      "Category                                    Communication\n",
      "Developer Id                                   Google LLC\n",
      "Developer Website    http://www.google.com/chrome/android\n",
      "Developer Email                      apps-help@google.com\n",
      "Content Rating                                   Everyone\n",
      "Ad Supported                                        False\n",
      "In App Purchases                                    False\n",
      "Name: 5, dtype: object\n",
      "\n",
      "6 No                                                                   7\n",
      "App Name                                                         Gmail\n",
      "App Id                                           com.google.android.gm\n",
      "Category                                                 Communication\n",
      "Developer Id                                                Google LLC\n",
      "Developer Website    http://support.google.com/mail/bin/topic.py?hl...\n",
      "Developer Email                                   apps-help@google.com\n",
      "Content Rating                                                Everyone\n",
      "Ad Supported                                                      True\n",
      "In App Purchases                                                 False\n",
      "Name: 6, dtype: object\n",
      "\n"
     ]
    }
   ],
   "source": [
    "# importing pandas package\n",
    "import pandas as pd\n",
    " \n",
    "# making data frame from csv file\n",
    "data = pd.read_csv(\"Google_Play.csv\")\n",
    "\n",
    "\n",
    "# creating a dataframe from a dictionary \n",
    "df = pd.DataFrame(data)\n",
    "\n",
    "# iterating over rows using iterrows() function \n",
    "for i, j in df.iterrows():\n",
    "    print(i,j)\n",
    "    print()\n",
    "\n",
    "    # Check if a certain column value reaches a specific value\n",
    "    if j['No'] == int(7):\n",
    "        break"
   ]
  },
  {
   "cell_type": "code",
   "execution_count": 95,
   "metadata": {},
   "outputs": [
    {
     "name": "stdout",
     "output_type": "stream",
     "text": [
      "1\n",
      "2\n",
      "3\n",
      "Google Play services\n",
      "YouTube\n",
      "Google\n",
      "com.google.android.gms\n",
      "com.google.android.youtube\n",
      "com.google.android.googlequicksearchbox\n",
      "Tools\n",
      "Video Players & Editors\n",
      "Tools\n",
      "Google LLC\n",
      "Google LLC\n",
      "Google LLC\n",
      "https://developers.google.com/android/google-play-services/\n",
      "https://support.google.com/youtube/topic/2422554?rd=1\n",
      "https://www.google.com/search/about/\n",
      "apps-help@google.com\n",
      "ytandroid-support@google.com\n",
      "apps-help@google.com\n",
      "Everyone\n",
      "Teen\n",
      "Everyone\n",
      "False\n",
      "True\n",
      "True\n",
      "False\n",
      "False\n",
      "False\n"
     ]
    }
   ],
   "source": [
    "import pandas as pd\n",
    "\n",
    "datta = pd.read_csv(\"Google_Play.csv\")\n",
    "\n",
    "# creating a dataframe from a dictionary \n",
    "df = pd.DataFrame(datta)\n",
    "\n",
    "# creating a list of dataframe columns\n",
    "columns = list(df)\n",
    " \n",
    "for i in columns:\n",
    "    # printing the third element of the column\n",
    "    print (df[i][0])\n",
    "    print (df[i][1])\n",
    "    print (df[i][2])"
   ]
  },
  {
   "cell_type": "code",
   "execution_count": 112,
   "metadata": {},
   "outputs": [
    {
     "name": "stdout",
     "output_type": "stream",
     "text": [
      "0 No                                                                   1\n",
      "App Name                                          Google Play services\n",
      "App Id                                          com.google.android.gms\n",
      "Category                                                         Tools\n",
      "Developer Id                                                Google LLC\n",
      "Developer Website    https://developers.google.com/android/google-p...\n",
      "Developer Email                                   apps-help@google.com\n",
      "Content Rating                                                Everyone\n",
      "Ad Supported                                                     False\n",
      "In App Purchases                                                 False\n",
      "Name: 0, dtype: object\n",
      "\n",
      "1 No                                                                   2\n",
      "App Name                                                       YouTube\n",
      "App Id                                      com.google.android.youtube\n",
      "Category                                       Video Players & Editors\n",
      "Developer Id                                                Google LLC\n",
      "Developer Website    https://support.google.com/youtube/topic/24225...\n",
      "Developer Email                           ytandroid-support@google.com\n",
      "Content Rating                                                    Teen\n",
      "Ad Supported                                                      True\n",
      "In App Purchases                                                 False\n",
      "Name: 1, dtype: object\n",
      "\n",
      "2 No                                                         3\n",
      "App Name                                              Google\n",
      "App Id               com.google.android.googlequicksearchbox\n",
      "Category                                               Tools\n",
      "Developer Id                                      Google LLC\n",
      "Developer Website       https://www.google.com/search/about/\n",
      "Developer Email                         apps-help@google.com\n",
      "Content Rating                                      Everyone\n",
      "Ad Supported                                            True\n",
      "In App Purchases                                       False\n",
      "Name: 2, dtype: object\n",
      "\n",
      "3 No                                                  4\n",
      "App Name             Google Maps - Navigate & Explore\n",
      "App Id                   com.google.android.apps.maps\n",
      "Category                               Travel & Local\n",
      "Developer Id                               Google LLC\n",
      "Developer Website       http://maps.google.com/about/\n",
      "Developer Email                  apps-help@google.com\n",
      "Content Rating                               Everyone\n",
      "Ad Supported                                     True\n",
      "In App Purchases                                False\n",
      "Name: 3, dtype: object\n",
      "\n",
      "4 No                                         5\n",
      "App Name               Google Text-to-Speech\n",
      "App Id                com.google.android.tts\n",
      "Category                               Tools\n",
      "Developer Id                      Google LLC\n",
      "Developer Website     http://www.google.com/\n",
      "Developer Email      tts-feedback@google.com\n",
      "Content Rating                      Everyone\n",
      "Ad Supported                           False\n",
      "In App Purchases                       False\n",
      "Name: 4, dtype: object\n",
      "\n",
      "5 No                                                      6\n",
      "App Name                     Google Chrome: Fast & Secure\n",
      "App Id                                 com.android.chrome\n",
      "Category                                    Communication\n",
      "Developer Id                                   Google LLC\n",
      "Developer Website    http://www.google.com/chrome/android\n",
      "Developer Email                      apps-help@google.com\n",
      "Content Rating                                   Everyone\n",
      "Ad Supported                                        False\n",
      "In App Purchases                                    False\n",
      "Name: 5, dtype: object\n",
      "\n",
      "6 No                                                                   7\n",
      "App Name                                                         Gmail\n",
      "App Id                                           com.google.android.gm\n",
      "Category                                                 Communication\n",
      "Developer Id                                                Google LLC\n",
      "Developer Website    http://support.google.com/mail/bin/topic.py?hl...\n",
      "Developer Email                                   apps-help@google.com\n",
      "Content Rating                                                Everyone\n",
      "Ad Supported                                                      True\n",
      "In App Purchases                                                 False\n",
      "Name: 6, dtype: object\n",
      "\n"
     ]
    }
   ],
   "source": [
    "# importing pandas package\n",
    "import pandas as pd\n",
    "\n",
    "datta = pd.read_csv(\"Programming_Language.csv\")\n",
    "\n",
    "# creating a dataframe from a dictionary \n",
    "df = pd.DataFrame(data)\n",
    "\n",
    "# iterating over rows using iterrows() function \n",
    "for index, row in df.iterrows():\n",
    "    print(index,row)\n",
    "    print()\n",
    "\n",
    "    # Check if a certain column value reaches a specific value\n",
    "    if index == 6:\n",
    "        break"
   ]
  },
  {
   "cell_type": "code",
   "execution_count": 105,
   "metadata": {},
   "outputs": [
    {
     "name": "stdout",
     "output_type": "stream",
     "text": [
      "4/21/2019\n",
      "4/28/2019\n",
      "5/5/2019\n",
      "55\n",
      "52\n",
      "56\n",
      "55\n",
      "50\n",
      "56\n",
      "18\n",
      "16\n",
      "17\n"
     ]
    }
   ],
   "source": [
    "# importing pandas package\n",
    "import pandas as pd\n",
    "\n",
    "datta = pd.read_csv(\"Programming_Language.csv\")\n",
    "\n",
    "# creating a dataframe from a dictionary \n",
    "df = pd.DataFrame(datta)\n",
    "\n",
    "# creating a list of dataframe columns\n",
    "columns = list(df)\n",
    " \n",
    "for i in columns:\n",
    "    # printing the third element of the column\n",
    "    print (df[i][0])\n",
    "    print (df[i][1])\n",
    "    print (df[i][2])"
   ]
  },
  {
   "cell_type": "code",
   "execution_count": 106,
   "metadata": {},
   "outputs": [
    {
     "data": {
      "text/html": [
       "<div>\n",
       "<style scoped>\n",
       "    .dataframe tbody tr th:only-of-type {\n",
       "        vertical-align: middle;\n",
       "    }\n",
       "\n",
       "    .dataframe tbody tr th {\n",
       "        vertical-align: top;\n",
       "    }\n",
       "\n",
       "    .dataframe thead th {\n",
       "        text-align: right;\n",
       "    }\n",
       "</style>\n",
       "<table border=\"1\" class=\"dataframe\">\n",
       "  <thead>\n",
       "    <tr style=\"text-align: right;\">\n",
       "      <th></th>\n",
       "      <th>Week</th>\n",
       "      <th>Python</th>\n",
       "      <th>Java</th>\n",
       "      <th>C++</th>\n",
       "    </tr>\n",
       "  </thead>\n",
       "  <tbody>\n",
       "    <tr>\n",
       "      <th>0</th>\n",
       "      <td>4/21/2019</td>\n",
       "      <td>55</td>\n",
       "      <td>55</td>\n",
       "      <td>18</td>\n",
       "    </tr>\n",
       "  </tbody>\n",
       "</table>\n",
       "</div>"
      ],
      "text/plain": [
       "        Week  Python  Java  C++\n",
       "0  4/21/2019      55    55   18"
      ]
     },
     "execution_count": 106,
     "metadata": {},
     "output_type": "execute_result"
    }
   ],
   "source": [
    "# importing pandas package\n",
    "import pandas as pd\n",
    "\n",
    "datta = pd.read_csv(\"Programming_Language.csv\")\n",
    "\n",
    "df=datta.head(1)\n",
    "\n",
    "# print excel\n",
    "df\n"
   ]
  },
  {
   "cell_type": "code",
   "execution_count": 2,
   "metadata": {},
   "outputs": [
    {
     "name": "stdout",
     "output_type": "stream",
     "text": [
      "0 Date        25-Mar-22\n",
      "Price         44331.0\n",
      "Open          44013.0\n",
      "High          45112.0\n",
      "Low           43622.0\n",
      "Vol.          494.09M\n",
      "Change %        0.72%\n",
      "Name: 0, dtype: object\n",
      "\n",
      "1 Date        24-Mar-22\n",
      "Price         44013.0\n",
      "Open          42911.0\n",
      "High          44251.0\n",
      "Low           42658.0\n",
      "Vol.          491.66M\n",
      "Change %        2.57%\n",
      "Name: 1, dtype: object\n",
      "\n",
      "2 Date        23-Mar-22\n",
      "Price         42912.0\n",
      "Open          42373.0\n",
      "High          43027.0\n",
      "Low           41795.0\n",
      "Vol.          433.96M\n",
      "Change %        1.27%\n",
      "Name: 2, dtype: object\n",
      "\n",
      "3 Date        22-Mar-22\n",
      "Price         42373.0\n",
      "Open          41022.0\n",
      "High          43327.9\n",
      "Low           40893.0\n",
      "Vol.          537.06M\n",
      "Change %        3.29%\n",
      "Name: 3, dtype: object\n",
      "\n",
      "4 Date        21-Mar-22\n",
      "Price         41022.0\n",
      "Open          41282.0\n",
      "High          41532.0\n",
      "Low           40530.0\n",
      "Vol.          406.62M\n",
      "Change %       -0.62%\n",
      "Name: 4, dtype: object\n",
      "\n",
      "5 Date        20-Mar-22\n",
      "Price         41276.0\n",
      "Open          42241.0\n",
      "High          42301.0\n",
      "Low           40922.0\n",
      "Vol.          308.45M\n",
      "Change %       -2.27%\n",
      "Name: 5, dtype: object\n",
      "\n",
      "6 Date        19-Mar-22\n",
      "Price         42233.0\n",
      "Open          41768.0\n",
      "High          42386.0\n",
      "Low           41529.6\n",
      "Vol.          224.59M\n",
      "Change %        1.11%\n",
      "Name: 6, dtype: object\n",
      "\n"
     ]
    }
   ],
   "source": [
    "import pandas as pd\n",
    "\n",
    "data = pd.read_csv(\"Cryptocurrency.csv\")\n",
    "\n",
    "# creating a dataframe from a dictionary \n",
    "df = pd.DataFrame(data)\n",
    "\n",
    "# iterating over rows using iterrows() function \n",
    "for index, row in df.iterrows():\n",
    "    print(index,row)\n",
    "    print()\n",
    "\n",
    "    # Check if a certain column value reaches a specific value\n",
    "    if index == 6:\n",
    "        break\n"
   ]
  },
  {
   "cell_type": "code",
   "execution_count": 115,
   "metadata": {},
   "outputs": [
    {
     "name": "stdout",
     "output_type": "stream",
     "text": [
      "25-Mar-22\n",
      "24-Mar-22\n",
      "23-Mar-22\n",
      "44331.0\n",
      "44013.0\n",
      "42912.0\n",
      "44013.0\n",
      "42911.0\n",
      "42373.0\n",
      "45112.0\n",
      "44251.0\n",
      "43027.0\n",
      "43622.0\n",
      "42658.0\n",
      "41795.0\n",
      "494.09M\n",
      "491.66M\n",
      "433.96M\n",
      "0.72%\n",
      "2.57%\n",
      "1.27%\n"
     ]
    }
   ],
   "source": [
    "# importing pandas package\n",
    "import pandas as pd\n",
    "\n",
    "datta = pd.read_csv(\"Cryptocurrency.csv\")\n",
    "\n",
    "# creating a dataframe from a dictionary \n",
    "df = pd.DataFrame(datta)\n",
    "\n",
    "# creating a list of dataframe columns\n",
    "columns = list(df)\n",
    " \n",
    "for i in columns:\n",
    "    # printing the third element of the column\n",
    "    print (df[i][0])\n",
    "    print (df[i][1])\n",
    "    print (df[i][2])"
   ]
  },
  {
   "cell_type": "code",
   "execution_count": 2,
   "metadata": {},
   "outputs": [
    {
     "data": {
      "text/html": [
       "<div>\n",
       "<style scoped>\n",
       "    .dataframe tbody tr th:only-of-type {\n",
       "        vertical-align: middle;\n",
       "    }\n",
       "\n",
       "    .dataframe tbody tr th {\n",
       "        vertical-align: top;\n",
       "    }\n",
       "\n",
       "    .dataframe thead th {\n",
       "        text-align: right;\n",
       "    }\n",
       "</style>\n",
       "<table border=\"1\" class=\"dataframe\">\n",
       "  <thead>\n",
       "    <tr style=\"text-align: right;\">\n",
       "      <th></th>\n",
       "      <th>Date</th>\n",
       "      <th>Price</th>\n",
       "      <th>Open</th>\n",
       "      <th>High</th>\n",
       "      <th>Low</th>\n",
       "      <th>Vol.</th>\n",
       "      <th>Change %</th>\n",
       "    </tr>\n",
       "  </thead>\n",
       "  <tbody>\n",
       "    <tr>\n",
       "      <th>0</th>\n",
       "      <td>25-Mar-22</td>\n",
       "      <td>44331.0</td>\n",
       "      <td>44013.0</td>\n",
       "      <td>45112.0</td>\n",
       "      <td>43622.0</td>\n",
       "      <td>494.09M</td>\n",
       "      <td>0.72%</td>\n",
       "    </tr>\n",
       "  </tbody>\n",
       "</table>\n",
       "</div>"
      ],
      "text/plain": [
       "        Date    Price     Open     High      Low     Vol. Change %\n",
       "0  25-Mar-22  44331.0  44013.0  45112.0  43622.0  494.09M    0.72%"
      ]
     },
     "execution_count": 2,
     "metadata": {},
     "output_type": "execute_result"
    }
   ],
   "source": [
    "import pandas as pd\n",
    "\n",
    "datta = pd.read_csv(\"Cryptocurrency.csv\")\n",
    "\n",
    "df=datta.head(1)\n",
    "# print excel\n",
    "df"
   ]
  },
  {
   "cell_type": "markdown",
   "metadata": {},
   "source": [
    "## Class Project II"
   ]
  },
  {
   "cell_type": "markdown",
   "metadata": {},
   "source": [
    "<b>Cadbury Nigeria Plc</b> manufactures and sells branded fast moving consumer goods to the Nigerian market and exports in West Africa. The Company produces intermediate products, such as cocoa butter, liquor, cake and powder. It exports cocoa butter, cake and liquor to international customers, and cocoa powder locally. It operates through three segments: Refreshment Beverages, Confectionery and Intermediate Cocoa Products. The Refreshment Beverages segment includes the manufacture and sale of Bournvita and Hot Chocolate. The Confectionery segment includes the manufacture and sale of Tom Tom and Buttermint. The Intermediate Cocoa Products segment includes the manufacture and sale of cocoa powder, cocoa butter, cocoa liquor and cocoa cake. The Refreshment Beverages' brands include CADBURY BOURNVITA and CADBURY 3-in-1 HOT CHOCOLATE. The Confectionery's brands include TOMTOM CLASSIC, TOMTOM STRAWBERRY and BUTTERMINT. The Intermediate Cocoa Products' brands include COCOA POWDER and COCOA BUTTER.\n",
    "\n",
    "You have been employed as an expert python developer to create a program to document the consumption categories of their products and brands. Using your knowledge of Pandas DataFrames develop the program that saves the list of products (export, segments and brands) in a .csv excel file.<br><br>\n",
    "Hint: save the filename as <font color=\"green\"><i>cadbury_market.csv</i></font>."
   ]
  },
  {
   "cell_type": "code",
   "execution_count": 116,
   "metadata": {},
   "outputs": [],
   "source": [
    "# Import pandas package\n",
    "import pandas as pd\n",
    " \n",
    "# Define a dictionary containing employee data\n",
    "Info = {'Exports':['Cocoa butter', 'Cake', 'Confectionery', \"Cocoa Powder\"],\n",
    "        'Refreshment Beverage':['CADBURY BOURNVITA', 'CADBURY BOURNVITA', 'CADBURY 3-in-1 HOT CHOCOLATE', ''],\n",
    "        'Confectionery':['TOMTOM CLASSIC', 'TOMTOM STRAWBERRY', 'BUTTERMINT', ''],\n",
    "        'Intermediate Cocoa Products':['COCOA POWDER', 'COCOA BUTTER', '', '']}\n",
    "# creating a dataframe from a dictionary \n",
    "df = pd.DataFrame(Info)\n",
    "\n",
    "# saving the dataframe\n",
    "df.to_csv('cadbury_market.csv')"
   ]
  }
 ],
 "metadata": {
  "kernelspec": {
   "display_name": "Python 3 (ipykernel)",
   "language": "python",
   "name": "python3"
  },
  "language_info": {
   "codemirror_mode": {
    "name": "ipython",
    "version": 3
   },
   "file_extension": ".py",
   "mimetype": "text/x-python",
   "name": "python",
   "nbconvert_exporter": "python",
   "pygments_lexer": "ipython3",
   "version": "3.11.7"
  }
 },
 "nbformat": 4,
 "nbformat_minor": 4
}
